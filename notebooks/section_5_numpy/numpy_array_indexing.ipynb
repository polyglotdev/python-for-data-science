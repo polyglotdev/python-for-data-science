{
 "cells": [
  {
   "cell_type": "markdown",
   "metadata": {},
   "source": [
    "# NumPy Indexing and Selection\n"
   ]
  },
  {
   "cell_type": "code",
   "execution_count": 1,
   "metadata": {},
   "outputs": [],
   "source": [
    "import numpy as np\n"
   ]
  },
  {
   "cell_type": "code",
   "execution_count": 3,
   "metadata": {},
   "outputs": [
    {
     "name": "stdout",
     "output_type": "stream",
     "text": [
      "[1 2 3 4 5]\n"
     ]
    }
   ],
   "source": [
    "arr = np.array([1, 2, 3, 4, 5])\n",
    "print(arr)"
   ]
  },
  {
   "cell_type": "code",
   "execution_count": 8,
   "metadata": {},
   "outputs": [
    {
     "name": "stdout",
     "output_type": "stream",
     "text": [
      "[ 1  2  3  4  5  6  7  8  9 10]\n"
     ]
    }
   ],
   "source": [
    "arr = np.arange(1, 11)\n",
    "print(arr)"
   ]
  },
  {
   "cell_type": "code",
   "execution_count": 7,
   "metadata": {},
   "outputs": [
    {
     "name": "stdout",
     "output_type": "stream",
     "text": [
      "[1 2 3 4 5]\n",
      "8\n"
     ]
    }
   ],
   "source": [
    "new_arr = arr[0:5]\n",
    "print(new_arr)\n",
    "\n",
    "eight = arr[7]\n",
    "print(eight)"
   ]
  },
  {
   "cell_type": "code",
   "execution_count": 9,
   "metadata": {},
   "outputs": [
    {
     "data": {
      "text/plain": [
       "array([1, 2, 3, 4, 5, 6])"
      ]
     },
     "execution_count": 9,
     "metadata": {},
     "output_type": "execute_result"
    }
   ],
   "source": [
    "arr[:6]"
   ]
  },
  {
   "cell_type": "code",
   "execution_count": 11,
   "metadata": {},
   "outputs": [
    {
     "name": "stdout",
     "output_type": "stream",
     "text": [
      "['I' 'love' 'Python' 'very' 'much']\n",
      "['I' 'love']\n"
     ]
    }
   ],
   "source": [
    "sentence = np.array(['I', 'love', 'Python', 'very', 'much'])\n",
    "print(sentence)\n",
    "\n",
    "# get first two elements\n",
    "print(sentence[:2])"
   ]
  },
  {
   "cell_type": "code",
   "execution_count": 16,
   "metadata": {},
   "outputs": [
    {
     "name": "stdout",
     "output_type": "stream",
     "text": [
      "[[1 2 3]\n",
      " [4 5 6]\n",
      " [7 8 9]]\n",
      "First row: [1 2 3]\n",
      "First column: [1 4 7]\n",
      "Second row: [4 5 6]\n",
      "Second column: [2 5 8]\n"
     ]
    }
   ],
   "source": [
    "#  2d array access\n",
    "nums = [[1, 2, 3], [4, 5, 6], [7, 8, 9]]\n",
    "arr = np.array(nums)\n",
    "\n",
    "print(arr)\n",
    "\n",
    "# access first row\n",
    "print(f'First row: {arr[0]}')\n",
    "\n",
    "# access first column\n",
    "print(f'First column: {arr[:, 0]}')\n",
    "\n",
    "# access second row\n",
    "print(f'Second row: {arr[1]}')\n",
    "\n",
    "# access second column\n",
    "print(f'Second column: {arr[:, 1]}')\n"
   ]
  },
  {
   "cell_type": "code",
   "execution_count": null,
   "metadata": {},
   "outputs": [],
   "source": []
  }
 ],
 "metadata": {
  "kernelspec": {
   "display_name": "python-for-data-science",
   "language": "python",
   "name": "python3"
  },
  "language_info": {
   "codemirror_mode": {
    "name": "ipython",
    "version": 3
   },
   "file_extension": ".py",
   "mimetype": "text/x-python",
   "name": "python",
   "nbconvert_exporter": "python",
   "pygments_lexer": "ipython3",
   "version": "3.9.6"
  }
 },
 "nbformat": 4,
 "nbformat_minor": 2
}
