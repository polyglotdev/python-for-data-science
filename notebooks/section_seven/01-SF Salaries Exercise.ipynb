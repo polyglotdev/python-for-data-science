{
 "cells": [
  {
   "cell_type": "markdown",
   "metadata": {},
   "source": [
    "---\n",
    "<a href='http://www.pieriandata.com'> <img src='../../images/Pierian_Data_Logo.png' /></a>\n",
    "---\n"
   ]
  },
  {
   "cell_type": "markdown",
   "metadata": {},
   "source": [
    "# SF Salaries Exercise\n",
    "\n",
    "Welcome to a quick exercise for you to practice your pandas skills! We will be using the [SF Salaries Dataset](https://www.kaggle.com/kaggle/sf-salaries) from Kaggle! Just follow along and complete the tasks outlined in bold below. The tasks will get harder and harder as you go along.\n"
   ]
  },
  {
   "cell_type": "markdown",
   "metadata": {},
   "source": [
    "** Import pandas as pd.**\n"
   ]
  },
  {
   "cell_type": "code",
   "execution_count": 1,
   "metadata": {
    "collapsed": true
   },
   "outputs": [],
   "source": [
    "import pandas as pd"
   ]
  },
  {
   "cell_type": "markdown",
   "metadata": {},
   "source": [
    "** Read Salaries.csv as a dataframe called sal.**\n"
   ]
  },
  {
   "cell_type": "code",
   "execution_count": 2,
   "metadata": {
    "collapsed": false
   },
   "outputs": [],
   "source": [
    "salaries = pd.read_csv('Salaries.csv')"
   ]
  },
  {
   "cell_type": "markdown",
   "metadata": {},
   "source": [
    "** Check the head of the DataFrame. **\n"
   ]
  },
  {
   "cell_type": "code",
   "execution_count": 6,
   "metadata": {
    "collapsed": false
   },
   "outputs": [
    {
     "name": "stdout",
     "output_type": "stream",
     "text": [
      "   Id       EmployeeName                                        JobTitle  \\\n",
      "0   1     NATHANIEL FORD  GENERAL MANAGER-METROPOLITAN TRANSIT AUTHORITY   \n",
      "1   2       GARY JIMENEZ                 CAPTAIN III (POLICE DEPARTMENT)   \n",
      "2   3     ALBERT PARDINI                 CAPTAIN III (POLICE DEPARTMENT)   \n",
      "3   4  CHRISTOPHER CHONG            WIRE ROPE CABLE MAINTENANCE MECHANIC   \n",
      "4   5    PATRICK GARDNER    DEPUTY CHIEF OF DEPARTMENT,(FIRE DEPARTMENT)   \n",
      "\n",
      "     BasePay  OvertimePay   OtherPay  Benefits   TotalPay  TotalPayBenefits  \\\n",
      "0  167411.18         0.00  400184.25       NaN  567595.43         567595.43   \n",
      "1  155966.02    245131.88  137811.38       NaN  538909.28         538909.28   \n",
      "2  212739.13    106088.18   16452.60       NaN  335279.91         335279.91   \n",
      "3   77916.00     56120.71  198306.90       NaN  332343.61         332343.61   \n",
      "4  134401.60      9737.00  182234.59       NaN  326373.19         326373.19   \n",
      "\n",
      "   Year  Notes         Agency  Status  \n",
      "0  2011    NaN  San Francisco     NaN  \n",
      "1  2011    NaN  San Francisco     NaN  \n",
      "2  2011    NaN  San Francisco     NaN  \n",
      "3  2011    NaN  San Francisco     NaN  \n",
      "4  2011    NaN  San Francisco     NaN  \n"
     ]
    }
   ],
   "source": [
    "# Display the first 5 rows of the dataframe\n",
    "df = pd.DataFrame(salaries)\n",
    "print(df.head())"
   ]
  },
  {
   "cell_type": "markdown",
   "metadata": {},
   "source": [
    "** Use the .info() method to find out how many entries there are.**\n"
   ]
  },
  {
   "cell_type": "code",
   "execution_count": 7,
   "metadata": {
    "collapsed": false
   },
   "outputs": [
    {
     "name": "stdout",
     "output_type": "stream",
     "text": [
      "<class 'pandas.core.frame.DataFrame'>\n",
      "RangeIndex: 148654 entries, 0 to 148653\n",
      "Data columns (total 13 columns):\n",
      " #   Column            Non-Null Count   Dtype  \n",
      "---  ------            --------------   -----  \n",
      " 0   Id                148654 non-null  int64  \n",
      " 1   EmployeeName      148654 non-null  object \n",
      " 2   JobTitle          148654 non-null  object \n",
      " 3   BasePay           148045 non-null  float64\n",
      " 4   OvertimePay       148650 non-null  float64\n",
      " 5   OtherPay          148650 non-null  float64\n",
      " 6   Benefits          112491 non-null  float64\n",
      " 7   TotalPay          148654 non-null  float64\n",
      " 8   TotalPayBenefits  148654 non-null  float64\n",
      " 9   Year              148654 non-null  int64  \n",
      " 10  Notes             0 non-null       float64\n",
      " 11  Agency            148654 non-null  object \n",
      " 12  Status            0 non-null       float64\n",
      "dtypes: float64(8), int64(2), object(3)\n",
      "memory usage: 14.7+ MB\n",
      "None\n"
     ]
    }
   ],
   "source": [
    "# use the .info() method to find out how many entries there are\n",
    "print(df.info())"
   ]
  },
  {
   "cell_type": "markdown",
   "metadata": {},
   "source": [
    "**What is the average BasePay ?**\n"
   ]
  },
  {
   "cell_type": "code",
   "execution_count": 12,
   "metadata": {
    "collapsed": false
   },
   "outputs": [
    {
     "name": "stdout",
     "output_type": "stream",
     "text": [
      "The average base pay is: $66,325.45\n"
     ]
    }
   ],
   "source": [
    "# get the average base pay\n",
    "import locale\n",
    "\n",
    "# Set the locale to en_US\n",
    "locale.setlocale(locale.LC_ALL, 'en_US')\n",
    "\n",
    "# Convert the 'BasePay' column back to float\n",
    "df['BasePay'] = df['BasePay'].apply(\n",
    "    lambda x: locale.atof(x.replace('$', '').replace(',', '')))\n",
    "\n",
    "# Get the average of the 'BasePay' column\n",
    "average_base_pay = df['BasePay'].mean()\n",
    "\n",
    "print(\n",
    "    f\"The average base pay is: {locale.currency(average_base_pay, grouping=True)}\"\n",
    ")"
   ]
  },
  {
   "cell_type": "markdown",
   "metadata": {},
   "source": [
    "** What is the highest amount of OvertimePay in the dataset ? **\n"
   ]
  },
  {
   "cell_type": "code",
   "execution_count": 13,
   "metadata": {
    "collapsed": false
   },
   "outputs": [
    {
     "name": "stdout",
     "output_type": "stream",
     "text": [
      "The highest amount of overtime pay is: 245131.88\n"
     ]
    }
   ],
   "source": [
    "# get the highest amount of overtime pay\n",
    "highest_overtime_pay = df['OvertimePay'].max()\n",
    "print(f'The highest amount of overtime pay is: {highest_overtime_pay}')"
   ]
  },
  {
   "cell_type": "markdown",
   "metadata": {},
   "source": [
    "** What is the job title of JOSEPH DRISCOLL ? Note: Use all caps, otherwise you may get an answer that doesn't match up (there is also a lowercase Joseph Driscoll). **\n"
   ]
  },
  {
   "cell_type": "code",
   "execution_count": 14,
   "metadata": {
    "collapsed": false
   },
   "outputs": [
    {
     "name": "stdout",
     "output_type": "stream",
     "text": [
      "The job title of JOSEPH DRISCOLL is: CAPTAIN, FIRE SUPPRESSION\n"
     ]
    }
   ],
   "source": [
    "# get the job title of JOSEPH DRISCOLL\n",
    "joseph_driscoll = df[df['EmployeeName'] == 'JOSEPH DRISCOLL']\n",
    "job_title = joseph_driscoll['JobTitle'].values[0]\n",
    "print(f\"The job title of JOSEPH DRISCOLL is: {job_title}\")"
   ]
  },
  {
   "cell_type": "markdown",
   "metadata": {},
   "source": [
    "** How much does JOSEPH DRISCOLL make (including benefits)? **\n"
   ]
  },
  {
   "cell_type": "code",
   "execution_count": 15,
   "metadata": {
    "collapsed": false
   },
   "outputs": [
    {
     "name": "stdout",
     "output_type": "stream",
     "text": [
      "The total salary plus benefits of JOSEPH DRISCOLL is: 270324.91\n"
     ]
    }
   ],
   "source": [
    "# get the total salary plus benefits of JOSEPH DRISCOLL\n",
    "joseph_driscoll_total_compensation = joseph_driscoll[\n",
    "    'TotalPayBenefits'].values[0]\n",
    "print(\n",
    "    f\"The total salary plus benefits of JOSEPH DRISCOLL is: {joseph_driscoll_total_compensation}\"\n",
    ")"
   ]
  },
  {
   "cell_type": "markdown",
   "metadata": {},
   "source": [
    "** What is the name of highest paid person (including benefits)?**\n"
   ]
  },
  {
   "cell_type": "code",
   "execution_count": 18,
   "metadata": {
    "collapsed": false
   },
   "outputs": [
    {
     "name": "stdout",
     "output_type": "stream",
     "text": [
      " Id   EmployeeName                                       JobTitle   BasePay  OvertimePay  OtherPay  Benefits  TotalPay  TotalPayBenefits  Year  Notes        Agency  Status\n",
      "  1 NATHANIEL FORD GENERAL MANAGER-METROPOLITAN TRANSIT AUTHORITY 167411.18          0.0 400184.25       NaN 567595.43         567595.43  2011    NaN San Francisco     NaN\n"
     ]
    }
   ],
   "source": [
    "# get the name of the highest paid person including benefits\n",
    "highest_paid_person = df[df['TotalPayBenefits'] ==\n",
    "                         df['TotalPayBenefits'].max()]\n",
    "\n",
    "# print the highest paid person's details in a table\n",
    "print(highest_paid_person.to_string(index=False))"
   ]
  },
  {
   "cell_type": "markdown",
   "metadata": {},
   "source": [
    "** What is the name of lowest paid person (including benefits)? Do you notice something strange about how much he or she is paid?**\n"
   ]
  },
  {
   "cell_type": "code",
   "execution_count": 29,
   "metadata": {
    "collapsed": false
   },
   "outputs": [
    {
     "name": "stdout",
     "output_type": "stream",
     "text": [
      " title_len  TotalPayBenefits\n",
      "       1.0         -0.036878\n"
     ]
    }
   ],
   "source": [
    "# create a new dataframe for the lowest paid person. The table headers should be Id, EmployeeName, JobTitle, BasePay, OvertimePay, OtherPay, Benefits, TotalPay, TotalPayBenefits\n",
    "lowest_paid_person = df[df['TotalPayBenefits'] == df['TotalPayBenefits'].min()]\n",
    "\n",
    "# print the lowest paid person's details in a table\n",
    "print(lowest_paid_person.to_string(index=False))"
   ]
  },
  {
   "cell_type": "markdown",
   "metadata": {},
   "source": [
    "** What was the average (mean) BasePay of all employees per year? (2011-2014) ? **\n"
   ]
  },
  {
   "cell_type": "code",
   "execution_count": 20,
   "metadata": {
    "collapsed": false
   },
   "outputs": [
    {
     "name": "stdout",
     "output_type": "stream",
     "text": [
      "The average base pay of all employees from 2011 to 2014 is: $66,325.45\n"
     ]
    }
   ],
   "source": [
    "# get the average base pay of all employees 2011-2014\n",
    "average_base_pay_2011_2014 = df[(df['Year'] >= 2011)\n",
    "                                & (df['Year'] <= 2014)]['BasePay'].mean()\n",
    "\n",
    "print(\n",
    "    f\"The average base pay of all employees from 2011 to 2014 is: {locale.currency(average_base_pay_2011_2014, grouping=True)}\"\n",
    ")"
   ]
  },
  {
   "cell_type": "markdown",
   "metadata": {},
   "source": [
    "** How many unique job titles are there? **\n"
   ]
  },
  {
   "cell_type": "code",
   "execution_count": 21,
   "metadata": {
    "collapsed": false
   },
   "outputs": [
    {
     "name": "stdout",
     "output_type": "stream",
     "text": [
      "The number of unique job titles is: 2159\n"
     ]
    }
   ],
   "source": [
    "# get the number of unique job titles\n",
    "unique_job_titles = df['JobTitle'].nunique()\n",
    "print(f\"The number of unique job titles is: {unique_job_titles}\")"
   ]
  },
  {
   "cell_type": "markdown",
   "metadata": {},
   "source": [
    "** What are the top 5 most common jobs? **\n"
   ]
  },
  {
   "cell_type": "code",
   "execution_count": 22,
   "metadata": {
    "collapsed": false
   },
   "outputs": [
    {
     "name": "stdout",
     "output_type": "stream",
     "text": [
      "JobTitle\n",
      "Transit Operator                7036\n",
      "Special Nurse                   4389\n",
      "Registered Nurse                3736\n",
      "Public Svc Aide-Public Works    2518\n",
      "Police Officer 3                2421\n",
      "Name: count, dtype: int64\n"
     ]
    }
   ],
   "source": [
    "# get the top 5 most common jobs\n",
    "top_5_most_common_jobs = df['JobTitle'].value_counts().head(5)\n",
    "print(top_5_most_common_jobs)"
   ]
  },
  {
   "cell_type": "markdown",
   "metadata": {},
   "source": [
    "** How many Job Titles were represented by only one person in 2013? (e.g. Job Titles with only one occurence in 2013?) **\n"
   ]
  },
  {
   "cell_type": "code",
   "execution_count": 23,
   "metadata": {
    "collapsed": false
   },
   "outputs": [
    {
     "name": "stdout",
     "output_type": "stream",
     "text": [
      "The number of job titles represented by only one person in 2013 is: 202\n"
     ]
    }
   ],
   "source": [
    "# get number of job titles only represented by one person in 2013\n",
    "job_titles_2013 = df[df['Year'] == 2013]['JobTitle'].value_counts()\n",
    "job_titles_one_person = job_titles_2013[job_titles_2013 == 1].count()\n",
    "print(\n",
    "    f\"The number of job titles represented by only one person in 2013 is: {job_titles_one_person}\"\n",
    ")"
   ]
  },
  {
   "cell_type": "markdown",
   "metadata": {},
   "source": [
    "** How many people have the word Chief in their job title? (This is pretty tricky) **\n"
   ]
  },
  {
   "cell_type": "code",
   "execution_count": 24,
   "metadata": {
    "collapsed": true
   },
   "outputs": [
    {
     "name": "stdout",
     "output_type": "stream",
     "text": [
      "The number of people with the word 'Chief' or 'chief' in their job title is: 627\n"
     ]
    }
   ],
   "source": [
    "# get the number of people with the word 'Chief' or 'chief' in their job title\n",
    "chiefs = df[df['JobTitle'].str.contains('Chief', case=False)]\n",
    "print(\n",
    "    f\"The number of people with the word 'Chief' or 'chief' in their job title is: {chiefs['JobTitle'].count()}\"\n",
    ")\n"
   ]
  },
  {
   "cell_type": "code",
   "execution_count": 21,
   "metadata": {
    "collapsed": false
   },
   "outputs": [
    {
     "data": {
      "text/plain": [
       "477"
      ]
     },
     "execution_count": 21,
     "metadata": {},
     "output_type": "execute_result"
    }
   ],
   "source": []
  },
  {
   "cell_type": "markdown",
   "metadata": {},
   "source": [
    "** Bonus: Is there a correlation between length of the Job Title string and Salary? **\n"
   ]
  },
  {
   "cell_type": "code",
   "execution_count": 26,
   "metadata": {
    "collapsed": false
   },
   "outputs": [
    {
     "name": "stdout",
     "output_type": "stream",
     "text": [
      "The correlation between the length of job title and salary is: -0.03687844593260671\n"
     ]
    }
   ],
   "source": [
    "# Create a new column 'TitleLength' that represents the length of each Job Title\n",
    "df['TitleLength'] = df['JobTitle'].apply(len)\n",
    "\n",
    "# Calculate the correlation between 'TitleLength' and 'TotalPayBenefits'\n",
    "correlation = df['TitleLength'].corr(df['TotalPayBenefits'])\n",
    "\n",
    "print(\n",
    "    f\"The correlation between the length of job title and salary is: {correlation}\"\n",
    ")"
   ]
  },
  {
   "cell_type": "code",
   "execution_count": 27,
   "metadata": {
    "collapsed": false
   },
   "outputs": [
    {
     "name": "stdout",
     "output_type": "stream",
     "text": [
      "                  title_len  TotalPayBenefits\n",
      "                                             \n",
      "title_len          1.000000         -0.036878\n",
      "TotalPayBenefits  -0.036878          1.000000\n"
     ]
    }
   ],
   "source": [
    "# Create a DataFrame\n",
    "df = pd.DataFrame({\n",
    "    '': ['title_len', 'TotalPayBenefits'],\n",
    "    'title_len': [1.000000, -0.036878],\n",
    "    'TotalPayBenefits': [-0.036878, 1.000000]\n",
    "})\n",
    "\n",
    "# Set the first column as the DataFrame's index\n",
    "df.set_index('', inplace=True)\n",
    "\n",
    "# Print the DataFrame as a table\n",
    "print(df.to_string())"
   ]
  },
  {
   "cell_type": "markdown",
   "metadata": {},
   "source": [
    "# Great Job!\n"
   ]
  }
 ],
 "metadata": {
  "kernelspec": {
   "display_name": "Python 3",
   "language": "python",
   "name": "python3"
  },
  "language_info": {
   "codemirror_mode": {
    "name": "ipython",
    "version": 3
   },
   "file_extension": ".py",
   "mimetype": "text/x-python",
   "name": "python",
   "nbconvert_exporter": "python",
   "pygments_lexer": "ipython3",
   "version": "3.9.6"
  }
 },
 "nbformat": 4,
 "nbformat_minor": 0
}
